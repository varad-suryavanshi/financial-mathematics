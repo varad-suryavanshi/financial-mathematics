{
  "cells": [
    {
      "cell_type": "code",
      "execution_count": 15,
      "metadata": {
        "id": "dQIParzsV8cU"
      },
      "outputs": [],
      "source": [
        "import pandas as pd\n",
        "import numpy  as np\n",
        "import matplotlib.pyplot as plt\n",
        "import scipy.stats as stats\n",
        "from datetime import datetime\n",
        "\n",
        "import copy as cp\n",
        "\n",
        "DATA_PATH = \"./HW/FinancialMath/data/\""
      ]
    },
    {
      "cell_type": "markdown",
      "metadata": {
        "id": "xfXRyacZV8cU"
      },
      "source": [
        "#  <span style=\"font-family: Palatino; font-size: 30px; color:purple\">Getting comfortable with some financial math (5.5 pts)</span>"
      ]
    },
    {
      "cell_type": "markdown",
      "metadata": {
        "id": "KaUQdhuPV8cU"
      },
      "source": [
        "In this home work, you will get some experience working with some common financial mathematics and then have a chance to see if you can use this to do some financial data mining.\n",
        "\n",
        "(Note that for purposes of this home work, we are making some simplifying assumptions about the data (e.g., that we can ignore weekends and holidays; that we don't need write extra code to make our functions fail gracefully, such as code  to check to see if a date is out of range; etc.)"
      ]
    },
    {
      "cell_type": "markdown",
      "metadata": {
        "heading_collapsed": true,
        "id": "lvSi5DrEV8cV"
      },
      "source": [
        "## <span style=\"font-family: Palatino; font-size: 24px; color:purple\">Return math (2.5 pts) </span>"
      ]
    },
    {
      "cell_type": "markdown",
      "metadata": {
        "heading_collapsed": true,
        "hidden": true,
        "id": "86wtXPBzV8cV"
      },
      "source": [
        "### Calculate returns and log returns for the following price series.  Compare the two.  What do you notice? (0.5 pt)"
      ]
    },
    {
      "cell_type": "markdown",
      "metadata": {
        "hidden": true,
        "id": "iWbkv7l2V8cV"
      },
      "source": [
        "| DOW  | Closing Price |\n",
        "|------|--------------:|\n",
        "| Mon  | \\$1.00        |\n",
        "| Tue  | \\$1.50        |\n",
        "| Wed  | \\$1.00        |\n",
        "| Thr  | \\$0.50        |"
      ]
    },
    {
      "cell_type": "markdown",
      "metadata": {
        "hidden": true,
        "id": "mv9EltFxV8cV"
      },
      "source": []
    },
    {
      "cell_type": "markdown",
      "metadata": {
        "hidden": true,
        "id": "Tb-aciMCV8cV"
      },
      "source": [
        "**Read in the file `HW01_SPX.csv`.**"
      ]
    },
    {
      "cell_type": "code",
      "execution_count": 16,
      "metadata": {
        "id": "FeevTwmSV8cV"
      },
      "outputs": [],
      "source": [
        "df=pd.read_csv('/content/HW01_SPX - Copy.csv')"
      ]
    },
    {
      "cell_type": "markdown",
      "metadata": {
        "heading_collapsed": true,
        "hidden": true,
        "id": "f60-CQ5MV8cW"
      },
      "source": [
        "### Calculate returns and log returns for the closing price and plot the distribution of the log returns. What do you notice?  (Hint: Use a large bin number like 41 or 51.)  Add two new columns to your S&P data frame: `ret` and  `log_ret`. (0.5 pts)"
      ]
    },
    {
      "cell_type": "markdown",
      "metadata": {
        "hidden": true,
        "id": "TJV7Au5BV8cW"
      },
      "source": []
    },
    {
      "cell_type": "code",
      "execution_count": 17,
      "metadata": {
        "colab": {
          "base_uri": "https://localhost:8080/",
          "height": 206
        },
        "id": "QAuWkfQqX2CZ",
        "outputId": "6f0d5486-0847-42fa-dc14-eb15ae86dcdf"
      },
      "outputs": [
        {
          "data": {
            "application/vnd.google.colaboratory.intrinsic+json": {
              "summary": "{\n  \"name\": \"df\",\n  \"rows\": 5419,\n  \"fields\": [\n    {\n      \"column\": \"Date\",\n      \"properties\": {\n        \"dtype\": \"object\",\n        \"num_unique_values\": 5419,\n        \"samples\": [\n          \"2017-07-24\",\n          \"2006-02-15\",\n          \"2001-04-03\"\n        ],\n        \"semantic_type\": \"\",\n        \"description\": \"\"\n      }\n    },\n    {\n      \"column\": \"Open\",\n      \"properties\": {\n        \"dtype\": \"number\",\n        \"std\": 764.1543063131129,\n        \"min\": 675.13,\n        \"max\": 4381.07,\n        \"num_unique_values\": 5304,\n        \"samples\": [\n          1080.95,\n          1923.06,\n          1443.67\n        ],\n        \"semantic_type\": \"\",\n        \"description\": \"\"\n      }\n    },\n    {\n      \"column\": \"High\",\n      \"properties\": {\n        \"dtype\": \"number\",\n        \"std\": 766.7215190273253,\n        \"min\": 695.27,\n        \"max\": 4393.68,\n        \"num_unique_values\": 5315,\n        \"samples\": [\n          1341.91,\n          1273.95,\n          1937.17\n        ],\n        \"semantic_type\": \"\",\n        \"description\": \"\"\n      }\n    },\n    {\n      \"column\": \"Low\",\n      \"properties\": {\n        \"dtype\": \"number\",\n        \"std\": 761.378757606985,\n        \"min\": 666.79,\n        \"max\": 4366.92,\n        \"num_unique_values\": 5311,\n        \"samples\": [\n          1700.35,\n          1144.62,\n          2709.54\n        ],\n        \"semantic_type\": \"\",\n        \"description\": \"\"\n      }\n    },\n    {\n      \"column\": \"Close\",\n      \"properties\": {\n        \"dtype\": \"number\",\n        \"std\": 764.3958296152961,\n        \"min\": 676.53,\n        \"max\": 4384.63,\n        \"num_unique_values\": 5311,\n        \"samples\": [\n          1687.99,\n          1144.65,\n          2733.29\n        ],\n        \"semantic_type\": \"\",\n        \"description\": \"\"\n      }\n    },\n    {\n      \"column\": \"ret\",\n      \"properties\": {\n        \"dtype\": \"number\",\n        \"std\": 0.012445222800088007,\n        \"min\": -0.11984050283657066,\n        \"max\": 0.11580036031227059,\n        \"num_unique_values\": 5417,\n        \"samples\": [\n          -0.014309108542537752,\n          0.009040573531170715,\n          -0.009496324715228988\n        ],\n        \"semantic_type\": \"\",\n        \"description\": \"\"\n      }\n    },\n    {\n      \"column\": \"log_ret\",\n      \"properties\": {\n        \"dtype\": \"number\",\n        \"std\": 0.01246600176041978,\n        \"min\": -0.1276521411564726,\n        \"max\": 0.10957195934756658,\n        \"num_unique_values\": 5417,\n        \"samples\": [\n          -0.014412471037762664,\n          0.008999952189538085,\n          -0.009541702315563505\n        ],\n        \"semantic_type\": \"\",\n        \"description\": \"\"\n      }\n    }\n  ]\n}",
              "type": "dataframe",
              "variable_name": "df"
            },
            "text/html": [
              "\n",
              "  <div id=\"df-933d90a0-7075-4262-8d00-a06a39d5fc1e\" class=\"colab-df-container\">\n",
              "    <div>\n",
              "<style scoped>\n",
              "    .dataframe tbody tr th:only-of-type {\n",
              "        vertical-align: middle;\n",
              "    }\n",
              "\n",
              "    .dataframe tbody tr th {\n",
              "        vertical-align: top;\n",
              "    }\n",
              "\n",
              "    .dataframe thead th {\n",
              "        text-align: right;\n",
              "    }\n",
              "</style>\n",
              "<table border=\"1\" class=\"dataframe\">\n",
              "  <thead>\n",
              "    <tr style=\"text-align: right;\">\n",
              "      <th></th>\n",
              "      <th>Date</th>\n",
              "      <th>Open</th>\n",
              "      <th>High</th>\n",
              "      <th>Low</th>\n",
              "      <th>Close</th>\n",
              "      <th>ret</th>\n",
              "      <th>log_ret</th>\n",
              "    </tr>\n",
              "  </thead>\n",
              "  <tbody>\n",
              "    <tr>\n",
              "      <th>0</th>\n",
              "      <td>2000-01-03</td>\n",
              "      <td>1455.22</td>\n",
              "      <td>1478.00</td>\n",
              "      <td>1438.36</td>\n",
              "      <td>1455.22</td>\n",
              "      <td>NaN</td>\n",
              "      <td>NaN</td>\n",
              "    </tr>\n",
              "    <tr>\n",
              "      <th>1</th>\n",
              "      <td>2000-01-04</td>\n",
              "      <td>1399.42</td>\n",
              "      <td>1455.22</td>\n",
              "      <td>1397.43</td>\n",
              "      <td>1399.42</td>\n",
              "      <td>-0.038345</td>\n",
              "      <td>-0.039099</td>\n",
              "    </tr>\n",
              "    <tr>\n",
              "      <th>2</th>\n",
              "      <td>2000-01-05</td>\n",
              "      <td>1402.11</td>\n",
              "      <td>1413.27</td>\n",
              "      <td>1377.68</td>\n",
              "      <td>1402.11</td>\n",
              "      <td>0.001922</td>\n",
              "      <td>0.001920</td>\n",
              "    </tr>\n",
              "    <tr>\n",
              "      <th>3</th>\n",
              "      <td>2000-01-06</td>\n",
              "      <td>1403.45</td>\n",
              "      <td>1411.90</td>\n",
              "      <td>1392.02</td>\n",
              "      <td>1403.45</td>\n",
              "      <td>0.000956</td>\n",
              "      <td>0.000955</td>\n",
              "    </tr>\n",
              "    <tr>\n",
              "      <th>4</th>\n",
              "      <td>2000-01-07</td>\n",
              "      <td>1441.47</td>\n",
              "      <td>1441.47</td>\n",
              "      <td>1400.53</td>\n",
              "      <td>1441.47</td>\n",
              "      <td>0.027090</td>\n",
              "      <td>0.026730</td>\n",
              "    </tr>\n",
              "  </tbody>\n",
              "</table>\n",
              "</div>\n",
              "    <div class=\"colab-df-buttons\">\n",
              "\n",
              "  <div class=\"colab-df-container\">\n",
              "    <button class=\"colab-df-convert\" onclick=\"convertToInteractive('df-933d90a0-7075-4262-8d00-a06a39d5fc1e')\"\n",
              "            title=\"Convert this dataframe to an interactive table.\"\n",
              "            style=\"display:none;\">\n",
              "\n",
              "  <svg xmlns=\"http://www.w3.org/2000/svg\" height=\"24px\" viewBox=\"0 -960 960 960\">\n",
              "    <path d=\"M120-120v-720h720v720H120Zm60-500h600v-160H180v160Zm220 220h160v-160H400v160Zm0 220h160v-160H400v160ZM180-400h160v-160H180v160Zm440 0h160v-160H620v160ZM180-180h160v-160H180v160Zm440 0h160v-160H620v160Z\"/>\n",
              "  </svg>\n",
              "    </button>\n",
              "\n",
              "  <style>\n",
              "    .colab-df-container {\n",
              "      display:flex;\n",
              "      gap: 12px;\n",
              "    }\n",
              "\n",
              "    .colab-df-convert {\n",
              "      background-color: #E8F0FE;\n",
              "      border: none;\n",
              "      border-radius: 50%;\n",
              "      cursor: pointer;\n",
              "      display: none;\n",
              "      fill: #1967D2;\n",
              "      height: 32px;\n",
              "      padding: 0 0 0 0;\n",
              "      width: 32px;\n",
              "    }\n",
              "\n",
              "    .colab-df-convert:hover {\n",
              "      background-color: #E2EBFA;\n",
              "      box-shadow: 0px 1px 2px rgba(60, 64, 67, 0.3), 0px 1px 3px 1px rgba(60, 64, 67, 0.15);\n",
              "      fill: #174EA6;\n",
              "    }\n",
              "\n",
              "    .colab-df-buttons div {\n",
              "      margin-bottom: 4px;\n",
              "    }\n",
              "\n",
              "    [theme=dark] .colab-df-convert {\n",
              "      background-color: #3B4455;\n",
              "      fill: #D2E3FC;\n",
              "    }\n",
              "\n",
              "    [theme=dark] .colab-df-convert:hover {\n",
              "      background-color: #434B5C;\n",
              "      box-shadow: 0px 1px 3px 1px rgba(0, 0, 0, 0.15);\n",
              "      filter: drop-shadow(0px 1px 2px rgba(0, 0, 0, 0.3));\n",
              "      fill: #FFFFFF;\n",
              "    }\n",
              "  </style>\n",
              "\n",
              "    <script>\n",
              "      const buttonEl =\n",
              "        document.querySelector('#df-933d90a0-7075-4262-8d00-a06a39d5fc1e button.colab-df-convert');\n",
              "      buttonEl.style.display =\n",
              "        google.colab.kernel.accessAllowed ? 'block' : 'none';\n",
              "\n",
              "      async function convertToInteractive(key) {\n",
              "        const element = document.querySelector('#df-933d90a0-7075-4262-8d00-a06a39d5fc1e');\n",
              "        const dataTable =\n",
              "          await google.colab.kernel.invokeFunction('convertToInteractive',\n",
              "                                                    [key], {});\n",
              "        if (!dataTable) return;\n",
              "\n",
              "        const docLinkHtml = 'Like what you see? Visit the ' +\n",
              "          '<a target=\"_blank\" href=https://colab.research.google.com/notebooks/data_table.ipynb>data table notebook</a>'\n",
              "          + ' to learn more about interactive tables.';\n",
              "        element.innerHTML = '';\n",
              "        dataTable['output_type'] = 'display_data';\n",
              "        await google.colab.output.renderOutput(dataTable, element);\n",
              "        const docLink = document.createElement('div');\n",
              "        docLink.innerHTML = docLinkHtml;\n",
              "        element.appendChild(docLink);\n",
              "      }\n",
              "    </script>\n",
              "  </div>\n",
              "\n",
              "\n",
              "<div id=\"df-00801e2d-dbcc-4fef-a54e-52478cfb19a7\">\n",
              "  <button class=\"colab-df-quickchart\" onclick=\"quickchart('df-00801e2d-dbcc-4fef-a54e-52478cfb19a7')\"\n",
              "            title=\"Suggest charts\"\n",
              "            style=\"display:none;\">\n",
              "\n",
              "<svg xmlns=\"http://www.w3.org/2000/svg\" height=\"24px\"viewBox=\"0 0 24 24\"\n",
              "     width=\"24px\">\n",
              "    <g>\n",
              "        <path d=\"M19 3H5c-1.1 0-2 .9-2 2v14c0 1.1.9 2 2 2h14c1.1 0 2-.9 2-2V5c0-1.1-.9-2-2-2zM9 17H7v-7h2v7zm4 0h-2V7h2v10zm4 0h-2v-4h2v4z\"/>\n",
              "    </g>\n",
              "</svg>\n",
              "  </button>\n",
              "\n",
              "<style>\n",
              "  .colab-df-quickchart {\n",
              "      --bg-color: #E8F0FE;\n",
              "      --fill-color: #1967D2;\n",
              "      --hover-bg-color: #E2EBFA;\n",
              "      --hover-fill-color: #174EA6;\n",
              "      --disabled-fill-color: #AAA;\n",
              "      --disabled-bg-color: #DDD;\n",
              "  }\n",
              "\n",
              "  [theme=dark] .colab-df-quickchart {\n",
              "      --bg-color: #3B4455;\n",
              "      --fill-color: #D2E3FC;\n",
              "      --hover-bg-color: #434B5C;\n",
              "      --hover-fill-color: #FFFFFF;\n",
              "      --disabled-bg-color: #3B4455;\n",
              "      --disabled-fill-color: #666;\n",
              "  }\n",
              "\n",
              "  .colab-df-quickchart {\n",
              "    background-color: var(--bg-color);\n",
              "    border: none;\n",
              "    border-radius: 50%;\n",
              "    cursor: pointer;\n",
              "    display: none;\n",
              "    fill: var(--fill-color);\n",
              "    height: 32px;\n",
              "    padding: 0;\n",
              "    width: 32px;\n",
              "  }\n",
              "\n",
              "  .colab-df-quickchart:hover {\n",
              "    background-color: var(--hover-bg-color);\n",
              "    box-shadow: 0 1px 2px rgba(60, 64, 67, 0.3), 0 1px 3px 1px rgba(60, 64, 67, 0.15);\n",
              "    fill: var(--button-hover-fill-color);\n",
              "  }\n",
              "\n",
              "  .colab-df-quickchart-complete:disabled,\n",
              "  .colab-df-quickchart-complete:disabled:hover {\n",
              "    background-color: var(--disabled-bg-color);\n",
              "    fill: var(--disabled-fill-color);\n",
              "    box-shadow: none;\n",
              "  }\n",
              "\n",
              "  .colab-df-spinner {\n",
              "    border: 2px solid var(--fill-color);\n",
              "    border-color: transparent;\n",
              "    border-bottom-color: var(--fill-color);\n",
              "    animation:\n",
              "      spin 1s steps(1) infinite;\n",
              "  }\n",
              "\n",
              "  @keyframes spin {\n",
              "    0% {\n",
              "      border-color: transparent;\n",
              "      border-bottom-color: var(--fill-color);\n",
              "      border-left-color: var(--fill-color);\n",
              "    }\n",
              "    20% {\n",
              "      border-color: transparent;\n",
              "      border-left-color: var(--fill-color);\n",
              "      border-top-color: var(--fill-color);\n",
              "    }\n",
              "    30% {\n",
              "      border-color: transparent;\n",
              "      border-left-color: var(--fill-color);\n",
              "      border-top-color: var(--fill-color);\n",
              "      border-right-color: var(--fill-color);\n",
              "    }\n",
              "    40% {\n",
              "      border-color: transparent;\n",
              "      border-right-color: var(--fill-color);\n",
              "      border-top-color: var(--fill-color);\n",
              "    }\n",
              "    60% {\n",
              "      border-color: transparent;\n",
              "      border-right-color: var(--fill-color);\n",
              "    }\n",
              "    80% {\n",
              "      border-color: transparent;\n",
              "      border-right-color: var(--fill-color);\n",
              "      border-bottom-color: var(--fill-color);\n",
              "    }\n",
              "    90% {\n",
              "      border-color: transparent;\n",
              "      border-bottom-color: var(--fill-color);\n",
              "    }\n",
              "  }\n",
              "</style>\n",
              "\n",
              "  <script>\n",
              "    async function quickchart(key) {\n",
              "      const quickchartButtonEl =\n",
              "        document.querySelector('#' + key + ' button');\n",
              "      quickchartButtonEl.disabled = true;  // To prevent multiple clicks.\n",
              "      quickchartButtonEl.classList.add('colab-df-spinner');\n",
              "      try {\n",
              "        const charts = await google.colab.kernel.invokeFunction(\n",
              "            'suggestCharts', [key], {});\n",
              "      } catch (error) {\n",
              "        console.error('Error during call to suggestCharts:', error);\n",
              "      }\n",
              "      quickchartButtonEl.classList.remove('colab-df-spinner');\n",
              "      quickchartButtonEl.classList.add('colab-df-quickchart-complete');\n",
              "    }\n",
              "    (() => {\n",
              "      let quickchartButtonEl =\n",
              "        document.querySelector('#df-00801e2d-dbcc-4fef-a54e-52478cfb19a7 button');\n",
              "      quickchartButtonEl.style.display =\n",
              "        google.colab.kernel.accessAllowed ? 'block' : 'none';\n",
              "    })();\n",
              "  </script>\n",
              "</div>\n",
              "\n",
              "    </div>\n",
              "  </div>\n"
            ],
            "text/plain": [
              "         Date     Open     High      Low    Close       ret   log_ret\n",
              "0  2000-01-03  1455.22  1478.00  1438.36  1455.22       NaN       NaN\n",
              "1  2000-01-04  1399.42  1455.22  1397.43  1399.42 -0.038345 -0.039099\n",
              "2  2000-01-05  1402.11  1413.27  1377.68  1402.11  0.001922  0.001920\n",
              "3  2000-01-06  1403.45  1411.90  1392.02  1403.45  0.000956  0.000955\n",
              "4  2000-01-07  1441.47  1441.47  1400.53  1441.47  0.027090  0.026730"
            ]
          },
          "execution_count": 17,
          "metadata": {},
          "output_type": "execute_result"
        }
      ],
      "source": [
        "returns = df['Close'].pct_change()\n",
        "df['ret'] = returns\n",
        "\n",
        "log_returns = np.log(df['Close']) - np.log(df['Close'].shift(1))\n",
        "df['log_ret'] = log_returns\n",
        "\n",
        "df.head()"
      ]
    },
    {
      "cell_type": "code",
      "execution_count": 18,
      "metadata": {
        "colab": {
          "base_uri": "https://localhost:8080/",
          "height": 430
        },
        "id": "YTLTPHD4bIRH",
        "outputId": "b2ca2044-ae7a-40bb-cf27-7fc5c6fd1387"
      },
      "outputs": [
        {
          "data": {
            "image/png": "[encoded data removed]",
            "text/plain": [
              "<Figure size 640x480 with 1 Axes>"
            ]
          },
          "metadata": {},
          "output_type": "display_data"
        }
      ],
      "source": [
        "plt.hist(df['log_ret'], bins=41)\n",
        "plt.show()"
      ]
    },
    {
      "cell_type": "markdown",
      "metadata": {
        "id": "aSE4eA09vJWn"
      },
      "source": [
        "## **Observation: The histogram shows that the log returns is distributed across 0, which tells us that it is normally distributed.**"
      ]
    },
    {
      "cell_type": "markdown",
      "metadata": {
        "heading_collapsed": true,
        "hidden": true,
        "id": "arP1fOkyV8cW"
      },
      "source": [
        "### Plot the returns against the log returns using the same axis limits on the x and y axes.  Write down your observations. (0.5 pts)"
      ]
    },
    {
      "cell_type": "code",
      "execution_count": 19,
      "metadata": {
        "colab": {
          "base_uri": "https://localhost:8080/",
          "height": 455
        },
        "hidden": true,
        "id": "0c3yNk8hV8cW",
        "outputId": "7b3edafd-9eac-43aa-f61e-124b4323a2ac"
      },
      "outputs": [
        {
          "data": {
            "image/png": "[encoded data removed]",
            "text/plain": [
              "<Figure size 640x480 with 1 Axes>"
            ]
          },
          "metadata": {},
          "output_type": "display_data"
        }
      ],
      "source": [
        "plt.scatter(df['ret'], df['log_ret'])\n",
        "plt.xlabel('Returns')\n",
        "plt.ylabel('Log Returns')\n",
        "plt.xlim([-0.15, 0.15])\n",
        "plt.ylim([-0.15, 0.15])\n",
        "plt.show()"
      ]
    },
    {
      "cell_type": "markdown",
      "metadata": {
        "id": "lFyLcFYSv7AA"
      },
      "source": [
        "## **Observation**: Here we can see as the return value is increasing, the log return value is also increasing from which we can figure out that they have linear relationship"
      ]
    },
    {
      "cell_type": "markdown",
      "metadata": {
        "hidden": true,
        "id": "3T4lKhyvV8cW"
      },
      "source": []
    },
    {
      "cell_type": "markdown",
      "metadata": {
        "heading_collapsed": true,
        "hidden": true,
        "id": "CSFtdudWV8cX"
      },
      "source": [
        "### Calculate the annualized volatility of the equity series over the most recent 30, 90, 120 and 360 days.  For now, you may assume that calendar days are equivalent to trading days (i.e., that there are no days on which trading is not done, and that the last $x$ observations in the data frame represent the last $x$ days) and that there are 252 trading days in a year.  Has the market become more or less volatile in the past 120 days? (0.5 pt)"
      ]
    },
    {
      "cell_type": "code",
      "execution_count": 20,
      "metadata": {
        "colab": {
          "base_uri": "https://localhost:8080/"
        },
        "id": "sceQotYEV8cX",
        "outputId": "aa4f4d53-35f6-46d8-880e-48fbf4d606c9"
      },
      "outputs": [
        {
          "name": "stdout",
          "output_type": "stream",
          "text": [
            "Annualized Volatility (30 days): 0.09080449124988775\n",
            "Annualized Volatility (90 days): 0.11027584870623995\n",
            "Annualized Volatility (120 days): 0.13457909207143662\n",
            "Annualized Volatility (360 days): 0.30000616029149474\n"
          ]
        }
      ],
      "source": [
        "recent_returns = df['log_ret'][-30:]\n",
        "annualized_volatility_30 = recent_returns.std() * np.sqrt(252)\n",
        "\n",
        "recent_returns = df['log_ret'][-90:]\n",
        "annualized_volatility_90 = recent_returns.std() * np.sqrt(252)\n",
        "\n",
        "recent_returns = df['log_ret'][-120:]\n",
        "annualized_volatility_120 = recent_returns.std() * np.sqrt(252)\n",
        "\n",
        "recent_returns = df['log_ret'][-360:]\n",
        "annualized_volatility_360 = recent_returns.std() * np.sqrt(252)\n",
        "\n",
        "print(\"Annualized Volatility (30 days):\", annualized_volatility_30)\n",
        "print(\"Annualized Volatility (90 days):\", annualized_volatility_90)\n",
        "print(\"Annualized Volatility (120 days):\", annualized_volatility_120)\n",
        "print(\"Annualized Volatility (360 days):\", annualized_volatility_360)"
      ]
    },
    {
      "cell_type": "markdown",
      "metadata": {
        "hidden": true,
        "id": "TMS0Y6JpV8cX"
      },
      "source": [
        "## **Observation: The market has become less volatile in past 120 days as compared to past 360 days. The market was more volatile before 120 days as compared to 30 or 90 days**\n"
      ]
    },
    {
      "cell_type": "markdown",
      "metadata": {
        "heading_collapsed": true,
        "hidden": true,
        "id": "S77IxhqFV8cX"
      },
      "source": [
        "### Repeat this again, but this time for the (end) date 2021-06-21. (0.5 pts)"
      ]
    },
    {
      "cell_type": "code",
      "execution_count": 21,
      "metadata": {
        "colab": {
          "base_uri": "https://localhost:8080/"
        },
        "hidden": true,
        "id": "LFmO3DIEV8cX",
        "outputId": "f9fa6a37-9f12-4d76-b9dc-49e55bb96ffa"
      },
      "outputs": [
        {
          "name": "stdout",
          "output_type": "stream",
          "text": [
            "Annualized Volatility (30 days) for 2021-06-21: 0.12659906036545418\n",
            "Annualized Volatility (90 days) for 2021-06-21: 0.1332556049975899\n",
            "Annualized Volatility (120 days) for 2021-06-21: 0.13837143777591662\n",
            "Annualized Volatility (360 days) for 2021-06-21: 0.30062334516762884\n"
          ]
        }
      ],
      "source": [
        "t_d = pd.to_datetime('2021-06-21')\n",
        "df['Date'] = pd.to_datetime(df['Date'])\n",
        "t_index = df[df['Date'] == t_d].index[0]\n",
        "\n",
        "recent_returns = df['log_ret'][t_index - 30 : t_index + 1]\n",
        "annualized_volatility_30 = recent_returns.std() * np.sqrt(252)\n",
        "\n",
        "recent_returns = df['log_ret'][t_index - 90: t_index + 1]\n",
        "annualized_volatility_90 = recent_returns.std() * np.sqrt(252)\n",
        "\n",
        "recent_returns = df['log_ret'][t_index - 120: t_index + 1]\n",
        "annualized_volatility_120 = recent_returns.std() * np.sqrt(252)\n",
        "\n",
        "recent_returns = df['log_ret'][t_index - 360 : t_index + 1]\n",
        "annualized_volatility_360 = recent_returns.std() * np.sqrt(252)\n",
        "\n",
        "print(\"Annualized Volatility (30 days) for 2021-06-21:\", annualized_volatility_30)\n",
        "print(\"Annualized Volatility (90 days) for 2021-06-21:\", annualized_volatility_90)\n",
        "print(\"Annualized Volatility (120 days) for 2021-06-21:\", annualized_volatility_120)\n",
        "print(\"Annualized Volatility (360 days) for 2021-06-21:\", annualized_volatility_360)\n"
      ]
    },
    {
      "cell_type": "markdown",
      "metadata": {
        "heading_collapsed": true,
        "id": "nDIKI8ZtV8cX"
      },
      "source": [
        "## <span style=\"font-family: Palatino; font-size: 24px; color:purple\"> Valuing options (3 pts)</span>"
      ]
    },
    {
      "cell_type": "markdown",
      "metadata": {
        "hidden": true,
        "id": "2KaUcGjtV8cX"
      },
      "source": [
        "Recall that we may calculate the value of a European put, $P(\\cdot)$, under the Black-Scholes-Merton pricing framework as:\n",
        "\n",
        "\\begin{equation}\n",
        "\tP= \\ N(- d_2)K e^{-rt}  - N(-d_1) S ,~\\text{where}\n",
        "\\end{equation}\n",
        "\n",
        "\\begin{equation}\n",
        "\td_1= \\frac{1}{\\sigma \\sqrt{t}} \\left[\\ln{\\left(\\frac{S}{K}\\right)} + \\left(r + \\frac{\\sigma^2}{2} \\right)t \\right],\n",
        "\\end{equation}\n",
        "\n",
        "\\begin{equation}\n",
        "\td_2 = \\frac{1}{\\sigma \\sqrt{t}} \\left[\\ln{\\left(\\frac{S}{K}\\right)} + \\left(r - \\frac{\\sigma^2}{2} \\right)t \\right]\\\\\n",
        "    = d_1 - \\sigma \\sqrt{t}, ~~ \\text{and}\n",
        "\\end{equation}\n",
        "\n",
        "<!-- \\begin{eqnarray*}\n",
        "\td_2 &=& \\frac{1}{\\sigma \\sqrt{t}} \\left[\\ln{\\left(\\frac{S}{K}\\right)} + \\left(r - \\frac{\\sigma^2}{2} \\right)t \\right]\\\\\n",
        "    &=& d_1 - \\sigma \\sqrt{t}, ~~ \\text{and}\n",
        "\\end{eqnarray*} -->\n",
        "\n",
        "\\begin{equation}\n",
        "\tN(x)=\\frac{1}{\\sqrt{2\\pi}} \\int_{-\\infty}^{x} e^{-\\frac{1}{2}z^2} dz~ ;\n",
        "\\end{equation}\n",
        "\n",
        "\n",
        "and where:\n",
        "\n",
        "\\begin{aligned}\n",
        "\tt\t\t& \\equiv \\text{the time (in years) between today and the expiration of the option, i.e., $T-t_0$, where, $T$ is the closing date;}\\\\\n",
        "\tS   \t& \\equiv  \\text{the price of the stock today;}\\\\\n",
        "\tK\t\t& \\equiv \\text{the price at which the option holder may sell the stock at time $t$;}\\\\\n",
        "\t\\sigma\t& \\equiv \\text{the price volatility;}\\\\\n",
        "\tr\t\t& \\equiv \\text{the risk free rate (e.g., on U.S. government securites with a maturity date of today+$t$});\\\\\n",
        "\tN(x)\t& \\equiv \\text{the standard normal cdf evaluated at $x$}; \\text{ and}\\\\\n",
        "\t P      &    =    P(S,K,\\sigma,r, t) \\equiv \\text{the value of a European put option allowing the holder to sell one share of the underlying stock $S$ today at price $K$ at time $t$, given an annualized volatility of $\\sigma$ and a risk-free rate $r$ }.\n",
        "\\end{aligned}\n",
        "\n",
        "Note that $N(x)$ is the standard normal CDF (i.e., mean $\\mu = 0$  and variance $\\sigma^2 = 1$), which we can approximate numerically using the `scipy.stats` function `norm.cdf(x, 0, 1)`."
      ]
    },
    {
      "cell_type": "markdown",
      "metadata": {
        "ExecuteTime": {
          "end_time": "2022-08-09T01:20:58.524337Z",
          "start_time": "2022-08-09T01:20:58.513822Z"
        },
        "hidden": true,
        "id": "Dx_WYehRV8cX"
      },
      "source": [
        "### Write a python function $\\small \\texttt{EuroPut(S,K, sigma, r, t)}$ to price a European put option. (0.5 pts)"
      ]
    },
    {
      "cell_type": "code",
      "execution_count": 22,
      "metadata": {
        "hidden": true,
        "id": "LwfhSHZGV8cX"
      },
      "outputs": [],
      "source": [
        "def EuroPut(S, K, sigma, r, t):\n",
        "  d1 = (np.log(S / K) + (r + 0.5 * sigma**2) * t) / (sigma * np.sqrt(t))\n",
        "  d2 = d1 - sigma * np.sqrt(t)\n",
        "\n",
        "  P = (stats.norm.cdf(-d2) * K * np.exp(-r * t)) - (stats.norm.cdf(-d1) * S)\n",
        "\n",
        "  return P"
      ]
    },
    {
      "cell_type": "markdown",
      "metadata": {
        "hidden": true,
        "id": "Flt1xJrSV8cX"
      },
      "source": [
        "\n",
        "### Use the  $\\small \\texttt{EuroPut(.)}$ function you wrote to price an option on a stock with the following characteristics: (0.5 pts)"
      ]
    },
    {
      "cell_type": "markdown",
      "metadata": {
        "hidden": true,
        "id": "8ritP_UqV8cX"
      },
      "source": [
        "\n",
        "\n",
        "\n",
        "|                        |           |\n",
        "|------------------------|-----------|\n",
        "|price today             | \\$20.00   |\n",
        "|exercise price          | \\$35.00   |\n",
        "|time to expiration (yrs)|    1.00   |\n",
        "|volatility              |    0.25   |\n",
        "|risk-free rate          |    0.05   |\n"
      ]
    },
    {
      "cell_type": "code",
      "execution_count": 23,
      "metadata": {
        "colab": {
          "base_uri": "https://localhost:8080/"
        },
        "hidden": true,
        "id": "K_7zs2ScV8cY",
        "outputId": "6e495786-1ac3-488c-9f6f-7e0ab238d743"
      },
      "outputs": [
        {
          "data": {
            "text/plain": [
              "13.342106213937623"
            ]
          },
          "execution_count": 23,
          "metadata": {},
          "output_type": "execute_result"
        }
      ],
      "source": [
        "EuroPut(20, 35, 0.25, 0.05, 1)"
      ]
    },
    {
      "cell_type": "markdown",
      "metadata": {
        "hidden": true,
        "id": "AqBXff3AV8cY"
      },
      "source": [
        "### Plot (1 pt) <br>\n",
        "<b>(a) the price of the put option for volatility values of `[0.05, 0.10, 0.15, 0.20, 0.25, 0.30, 0.35, 0.4]`; and <br>\n",
        "(b) price the put option for time to expiration values of `[0.25, 0.50, 0.75, 1.0, 1.25, 1.5, 2.0]`.</b>\n",
        "\n",
        "_(Two separate plots)_"
      ]
    },
    {
      "cell_type": "code",
      "execution_count": 24,
      "metadata": {
        "colab": {
          "base_uri": "https://localhost:8080/",
          "height": 472
        },
        "hidden": true,
        "id": "QEfLs8_ZV8cY",
        "outputId": "a81f0bb4-2701-4f90-e3e0-85ce8a0141f2"
      },
      "outputs": [
        {
          "data": {
            "image/png": "[encoded data removed]",
            "text/plain": [
              "<Figure size 640x480 with 1 Axes>"
            ]
          },
          "metadata": {},
          "output_type": "display_data"
        }
      ],
      "source": [
        "vol= [0.05, 0.10, 0.15, 0.20, 0.25, 0.30, 0.35, 0.4]\n",
        "put_price = []\n",
        "\n",
        "for v in vol:\n",
        "  x = EuroPut(20, 35, v, 0.05, 1)\n",
        "  put_price.append(x)\n",
        "\n",
        "plt.plot(vol, put_price)\n",
        "plt.xlabel('Volatility')\n",
        "plt.ylabel('Put Option Price')\n",
        "plt.title('Put Option Price vs. Volatility')\n",
        "plt.show()\n"
      ]
    },
    {
      "cell_type": "code",
      "execution_count": 25,
      "metadata": {
        "colab": {
          "base_uri": "https://localhost:8080/",
          "height": 472
        },
        "hidden": true,
        "id": "cJ-iyV7TV8cY",
        "outputId": "2c805b97-0d26-4ab2-c783-c625b8996727"
      },
      "outputs": [
        {
          "data": {
            "image/png": "[encoded data removed]",
            "text/plain": [
              "<Figure size 640x480 with 1 Axes>"
            ]
          },
          "metadata": {},
          "output_type": "display_data"
        }
      ],
      "source": [
        "time= [0.25, 0.50, 0.75, 1.0, 1.25, 1.5, 2.0]\n",
        "t=[]\n",
        "\n",
        "for x in time:\n",
        "  y = EuroPut(20, 35, 0.25, 0.05, x)\n",
        "  t.append(y)\n",
        "\n",
        "plt.plot(time, t)\n",
        "plt.xlabel('Time to Expiration')\n",
        "plt.ylabel('Put Option Price')\n",
        "plt.title('Put Option Price vs. Time to Expiration')\n",
        "plt.show()"
      ]
    },
    {
      "cell_type": "markdown",
      "metadata": {
        "ExecuteTime": {
          "end_time": "2022-08-09T02:40:26.444407Z",
          "start_time": "2022-08-09T02:40:26.435014Z"
        },
        "heading_collapsed": true,
        "hidden": true,
        "id": "kbuSPgB-V8cY"
      },
      "source": [
        "### Imagine that the actual closing price of the option today is $\\$14.25$.  What value of volatility is implied given the price in the marketplace? (Hint, use your  $\\small \\texttt{EuroPut(.)}$ function to search for a value of  $\\small \\texttt{sigma}$ that makes the price equal to $\\$14.25 \\pm \\$0.005$ or less by trying different values of  $\\small \\texttt{sigma}~$.) (1 pt)"
      ]
    },
    {
      "cell_type": "code",
      "execution_count": 26,
      "metadata": {
        "colab": {
          "base_uri": "https://localhost:8080/"
        },
        "hidden": true,
        "id": "kIp0wyFRV8cY",
        "outputId": "1afd242e-4b75-4c5b-b7c3-dfd2783de4f3"
      },
      "outputs": [
        {
          "name": "stdout",
          "output_type": "stream",
          "text": [
            "Implied volatility: 0.4900\n"
          ]
        },
        {
          "name": "stderr",
          "output_type": "stream",
          "text": [
            "<ipython-input-22-45c80f8ea354>:2: RuntimeWarning: divide by zero encountered in scalar divide\n",
            "  d1 = (np.log(S / K) + (r + 0.5 * sigma**2) * t) / (sigma * np.sqrt(t))\n"
          ]
        }
      ],
      "source": [
        "target_price = 14.25\n",
        "tolerance = 0.005\n",
        "\n",
        "sigma = 0.0\n",
        "step = 0.01\n",
        "while True:\n",
        "    price = EuroPut(20, 35, sigma, 0.05, 1)\n",
        "    if abs(price - target_price) <= tolerance:\n",
        "        print(f\"Implied volatility: {sigma:.4f}\")\n",
        "        break\n",
        "    elif price < target_price:\n",
        "        sigma += step\n",
        "    else:\n",
        "        sigma -= step\n"
      ]
    },
    {
      "cell_type": "markdown",
      "metadata": {
        "id": "SyWRECrdV8cY"
      },
      "source": [
        "# <span style=\"font-family: Palatino; font-size: 30px; color:purple\"> How well does Black-Scholes predict? (2.5 pts)</span>"
      ]
    },
    {
      "cell_type": "markdown",
      "metadata": {
        "id": "XXCZvPqdV8cY"
      },
      "source": [
        "**Read in the file `SPX_put_X20210716_new.csv`** which contains several months of history for an option on the S&P500 index.  \n",
        "\n",
        "The terms of the option are:\n",
        "\n",
        "|                        |           |\n",
        "|------------------------|-----------|\n",
        "|current_price           | in `underlying_last`|\n",
        "|strike price            | \\$3685    |\n",
        "|expiration date         | 2021-07-16|\n",
        "|risk-free rate          |  0.0025 * |\n",
        "\n",
        "\\* the risk-free rate varies daily, but for convenience in this example we have set it to a constant value.\n",
        "\n",
        "This file has the following record structure:\n",
        "\n",
        "|col\t|\tvariable\t|\tdefn\t|\n",
        "|-------------:\t\t|-------------:\t\t|------------------------------------:\t|\n",
        "1\t|\t`record_id`\t|\t\t|\n",
        "2\t|\t`quote_unixtime`\t|\tunix time quote finalized\t|\n",
        "3\t|\t`quote_readtime`\t|\tdate and time quote finalized\t|\n",
        "4\t|\t`quote_date`\t|\tdate quote finalized\t|\n",
        "5\t|\t`quote_time_hours`\t|\ttime of day quote finalized\t|\n",
        "6\t|\t`underlying_last`\t|\tthe last observed price of the underlying\t|\n",
        "7\t|\t`expire_date`\t|\toption expiration date\t|\n",
        "8\t|\t`expire_unix`\t|\toption expiration unix date\t|\n",
        "9\t|\t`strike`\t|\toption strike price ($K$)\t|\n",
        "10\t|\t`p_bid`\t|\tlast observed bid\t|\n",
        "11\t|\t`p_ask`\t|\tlast observed ask\t|\n",
        "12\t|\t`p_size`\t|\tlast offered quantity bid x ask quantity\t|\n",
        "13\t|\t`p_last`\t|\tlast traded price (NOT price at close!)\t|\n",
        "14\t|\t`p_volume`\t|\tvolume of trades\t|\n",
        "15\t|\t`strike_distance`\t|\tunderlying price -  strike price ($S_t - K$)\t|\n",
        "16\t|\t`strike_distance_pct`\t|\tcol 15 as pct of underlying price ($\\frac{S_t - K}{S_t}$)\t|"
      ]
    },
    {
      "cell_type": "code",
      "execution_count": 27,
      "metadata": {
        "id": "HICYybEgdL0X"
      },
      "outputs": [],
      "source": [
        "df1=pd.read_csv('/content/SPX_put_X20210716_new - Copy (1).csv')"
      ]
    },
    {
      "cell_type": "markdown",
      "metadata": {
        "heading_collapsed": true,
        "id": "HhyeET-MV8cY"
      },
      "source": [
        "### Use your  $\\small \\texttt{EuroPut(.)}$ function to price the option as of the first date in our data set (2021-06-21).  Use volatilities you calculated from that date back 30 days and 120 days. (0.5 pts)"
      ]
    },
    {
      "cell_type": "code",
      "execution_count": 28,
      "metadata": {
        "colab": {
          "base_uri": "https://localhost:8080/"
        },
        "hidden": true,
        "id": "IQ7-GIJwV8cY",
        "outputId": "9d74a8d4-08b7-49d8-a59e-f155d0f09db5"
      },
      "outputs": [
        {
          "name": "stdout",
          "output_type": "stream",
          "text": [
            "2021-06-21 00:00:00\n",
            "4224.66\n",
            "3685\n",
            "2021-07-16 00:00:00\n",
            "Option price using 30-day volatility: 0.0005206391941745686\n",
            "Option price using 120-day volatility: 0.0026618991984581064\n"
          ]
        }
      ],
      "source": [
        "df1['quote_date'] = pd.to_datetime(df1['quote_date'])\n",
        "first_date = df1['quote_date'].min()\n",
        "print(first_date)\n",
        "\n",
        "\n",
        "first_date_index = df1[df1['quote_date'] == first_date].index[0]\n",
        "\n",
        "underlying_price = df1.loc[first_date_index, 'underlying_last']\n",
        "strike_price = df1.loc[first_date_index, 'strike']\n",
        "expiration_date = pd.to_datetime(df1.loc[first_date_index, 'expire_date'])\n",
        "\n",
        "print(underlying_price)\n",
        "print(strike_price)\n",
        "print(expiration_date)\n",
        "\n",
        "time_to_expiration = (expiration_date - first_date).days / 365\n",
        "\n",
        "risk_free_rate = 0.0025\n",
        "\n",
        "volatility_30 = annualized_volatility_30\n",
        "volatility_120 = annualized_volatility_120\n",
        "\n",
        "option_price_30 = EuroPut(underlying_price, strike_price, volatility_30, risk_free_rate, time_to_expiration)\n",
        "option_price_120 = EuroPut(underlying_price, strike_price, volatility_120, risk_free_rate, time_to_expiration)\n",
        "\n",
        "print(f\"Option price using 30-day volatility: {option_price_30}\")\n",
        "print(f\"Option price using 120-day volatility: {option_price_120}\")\n"
      ]
    },
    {
      "cell_type": "markdown",
      "metadata": {
        "id": "lccpWE15V8cZ"
      },
      "source": [
        "### Now write a short function to calculate the implied volatility for all of the options prices in the data  (you may assume that the data conventions are the same in both the SPX and SPX put option files)  (1 pt):"
      ]
    },
    {
      "cell_type": "code",
      "execution_count": 29,
      "metadata": {
        "id": "JZNnDG9_V8cZ",
        "run_control": {
          "marked": true
        }
      },
      "outputs": [],
      "source": [
        "def implied_volatility(row):\n",
        "    underlying_price = row['underlying_last']\n",
        "    strike_price = row['strike']\n",
        "    option_price = row['p_last']\n",
        "    expiration_date = pd.to_datetime(row['expire_date'])\n",
        "    quote_date = pd.to_datetime(row['quote_date'])\n",
        "\n",
        "    time_to_expiration = (expiration_date - quote_date).days / 365\n",
        "    risk_free_rate = 0.0025\n",
        "\n",
        "    sigma = 0.2\n",
        "    tolerance = 0.001\n",
        "    max_iterations = 100\n",
        "\n",
        "    for i in range(max_iterations):\n",
        "        option_price_calculated = EuroPut(underlying_price, strike_price, sigma, risk_free_rate, time_to_expiration)\n",
        "        if abs(option_price_calculated - option_price) < tolerance:\n",
        "            return sigma\n",
        "        elif option_price_calculated < option_price:\n",
        "            sigma += 0.01\n",
        "        else:\n",
        "            sigma -= 0.01\n",
        "\n",
        "    return None\n",
        "\n",
        "df1['implied_vol'] = df1.apply(implied_volatility, axis=1)\n"
      ]
    },
    {
      "cell_type": "markdown",
      "metadata": {
        "heading_collapsed": true,
        "id": "pCFj0WcSV8cZ"
      },
      "source": [
        "### Next calculate the _ratio_ of the implied volatility to the realized volatility at 120 days for all option prices in the options data and plot the distribution (don't worry about error trapping, etc.). (1 pt)\n"
      ]
    },
    {
      "cell_type": "code",
      "execution_count": 30,
      "metadata": {
        "colab": {
          "base_uri": "https://localhost:8080/",
          "height": 472
        },
        "hidden": true,
        "id": "7rZwa-mRV8cZ",
        "outputId": "14da2367-7c8c-47b6-95e0-3623c0f4be1e"
      },
      "outputs": [
        {
          "data": {
            "image/png": "[encoded data removed]",
            "text/plain": [
              "<Figure size 640x480 with 1 Axes>"
            ]
          },
          "metadata": {},
          "output_type": "display_data"
        }
      ],
      "source": [
        "import pandas as pd\n",
        "import matplotlib.pyplot as plt\n",
        "import numpy as np\n",
        "def calculate_realized_volatility(row, df, window=120):\n",
        "    quote_date = pd.to_datetime(row['quote_date'])\n",
        "    end_date = quote_date\n",
        "    start_date = end_date - pd.Timedelta(days=window)\n",
        "\n",
        "    filtered_df = df[(df['Date'] >= start_date) & (df['Date'] <= end_date)]\n",
        "\n",
        "    if not filtered_df.empty:\n",
        "        return filtered_df['log_ret'].std() * np.sqrt(252)\n",
        "    else:\n",
        "        return None\n",
        "\n",
        "\n",
        "df1['realized_vol_120'] = df1.apply(lambda row: calculate_realized_volatility(row, df), axis=1)\n",
        "\n",
        "df1['iv_ratio_rv'] = df1['implied_vol'] / df1['realized_vol_120']\n",
        "\n",
        "plt.hist(df1['iv_ratio_rv'].dropna(), bins=30)\n",
        "plt.xlabel('Ratio of Implied Volatility to Realized Volatility (120 days)')\n",
        "plt.ylabel('Frequency')\n",
        "plt.title('Distribution of Implied Volatility to Realized Volatility Ratio')\n",
        "plt.show()\n"
      ]
    },
    {
      "cell_type": "markdown",
      "metadata": {
        "heading_collapsed": true,
        "id": "oQxMN5mxV8cZ"
      },
      "source": [
        "# <span style=\"font-family: Palatino; font-size: 30px; color:purple\"> Some data financial data mining (2 pts)</span>\n"
      ]
    },
    {
      "cell_type": "markdown",
      "metadata": {
        "hidden": true,
        "id": "2Y3oZehAV8cZ"
      },
      "source": [
        "## Now create a new data set for modeling (with lagged features) (1.5 pts)\n",
        "\n",
        "1. Next create a new variable, `p_last_t1` that contains all of the values of `p_last` shifted forward one day so that the vaues of $x_{t-1}$ of the independent variables are associated (in the same row as) the values of $y_t$ (the dependent variable).  Said differently, set the data up so that we use the values if the independent variables that we know before the Open today (i.e., yesterdays values of the independent variables at the Close) to predict the direction of the return at the end of the day today.\n",
        "2. Example: The row of the final data set for the date 2021-06-28, would contain all of the data for 2021-06-28 (except that day's value of `p_last`), and also and _tomorrow's_ (2021-06-29) value of `p_last` which would be stored in the variable `p_last_t1` in the row for 2021-06-28."
      ]
    },
    {
      "cell_type": "code",
      "execution_count": 31,
      "metadata": {
        "colab": {
          "base_uri": "https://localhost:8080/",
          "height": 911
        },
        "id": "-CTCPnYLBuqR",
        "outputId": "959d7563-a606-4b00-84e5-8ec718788a73"
      },
      "outputs": [
        {
          "data": {
            "application/vnd.google.colaboratory.intrinsic+json": {
              "summary": "{\n  \"name\": \"df1\",\n  \"rows\": 18,\n  \"fields\": [\n    {\n      \"column\": \"Unnamed: 0\",\n      \"properties\": {\n        \"dtype\": \"number\",\n        \"std\": 55198,\n        \"min\": 1641,\n        \"max\": 166926,\n        \"num_unique_values\": 18,\n        \"samples\": [\n          108508,\n          116717,\n          1641\n        ],\n        \"semantic_type\": \"\",\n        \"description\": \"\"\n      }\n    },\n    {\n      \"column\": \"quote_unixtime\",\n      \"properties\": {\n        \"dtype\": \"number\",\n        \"std\": 693613,\n        \"min\": 1624305600,\n        \"max\": 1626379200,\n        \"num_unique_values\": 18,\n        \"samples\": [\n          1624305600,\n          1624392000,\n          1625169600\n        ],\n        \"semantic_type\": \"\",\n        \"description\": \"\"\n      }\n    },\n    {\n      \"column\": \"quote_readtime\",\n      \"properties\": {\n        \"dtype\": \"object\",\n        \"num_unique_values\": 18,\n        \"samples\": [\n          \" 2021-06-21 16:00\",\n          \" 2021-06-22 16:00\",\n          \" 2021-07-01 16:00\"\n        ],\n        \"semantic_type\": \"\",\n        \"description\": \"\"\n      }\n    },\n    {\n      \"column\": \"quote_date\",\n      \"properties\": {\n        \"dtype\": \"date\",\n        \"min\": \"2021-06-21 00:00:00\",\n        \"max\": \"2021-07-15 00:00:00\",\n        \"num_unique_values\": 18,\n        \"samples\": [\n          \"2021-06-21 00:00:00\",\n          \"2021-06-22 00:00:00\",\n          \"2021-07-01 00:00:00\"\n        ],\n        \"semantic_type\": \"\",\n        \"description\": \"\"\n      }\n    },\n    {\n      \"column\": \"quote_time_hours\",\n      \"properties\": {\n        \"dtype\": \"number\",\n        \"std\": 0,\n        \"min\": 16,\n        \"max\": 16,\n        \"num_unique_values\": 1,\n        \"samples\": [\n          16\n        ],\n        \"semantic_type\": \"\",\n        \"description\": \"\"\n      }\n    },\n    {\n      \"column\": \"underlying_last\",\n      \"properties\": {\n        \"dtype\": \"number\",\n        \"std\": 50.7912036797891,\n        \"min\": 4224.66,\n        \"max\": 4384.91,\n        \"num_unique_values\": 18,\n        \"samples\": [\n          4224.66\n        ],\n        \"semantic_type\": \"\",\n        \"description\": \"\"\n      }\n    },\n    {\n      \"column\": \"expire_date\",\n      \"properties\": {\n        \"dtype\": \"object\",\n        \"num_unique_values\": 1,\n        \"samples\": [\n          \" 2021-07-16\"\n        ],\n        \"semantic_type\": \"\",\n        \"description\": \"\"\n      }\n    },\n    {\n      \"column\": \"expire_unix\",\n      \"properties\": {\n        \"dtype\": \"number\",\n        \"std\": 0,\n        \"min\": 1626465600,\n        \"max\": 1626465600,\n        \"num_unique_values\": 1,\n        \"samples\": [\n          1626465600\n        ],\n        \"semantic_type\": \"\",\n        \"description\": \"\"\n      }\n    },\n    {\n      \"column\": \"strike\",\n      \"properties\": {\n        \"dtype\": \"number\",\n        \"std\": 0,\n        \"min\": 3685,\n        \"max\": 3685,\n        \"num_unique_values\": 1,\n        \"samples\": [\n          3685\n        ],\n        \"semantic_type\": \"\",\n        \"description\": \"\"\n      }\n    },\n    {\n      \"column\": \"p_bid\",\n      \"properties\": {\n        \"dtype\": \"number\",\n        \"std\": 1.5319530232221472,\n        \"min\": 0.0,\n        \"max\": 5.09,\n        \"num_unique_values\": 16,\n        \"samples\": [\n          5.09\n        ],\n        \"semantic_type\": \"\",\n        \"description\": \"\"\n      }\n    },\n    {\n      \"column\": \"p_ask\",\n      \"properties\": {\n        \"dtype\": \"number\",\n        \"std\": 1.5496840285152629,\n        \"min\": 0.09,\n        \"max\": 5.3,\n        \"num_unique_values\": 17,\n        \"samples\": [\n          5.3\n        ],\n        \"semantic_type\": \"\",\n        \"description\": \"\"\n      }\n    },\n    {\n      \"column\": \"p_size\",\n      \"properties\": {\n        \"dtype\": \"string\",\n        \"num_unique_values\": 18,\n        \"samples\": [\n          \" 923 x 811\"\n        ],\n        \"semantic_type\": \"\",\n        \"description\": \"\"\n      }\n    },\n    {\n      \"column\": \"p_last\",\n      \"properties\": {\n        \"dtype\": \"number\",\n        \"std\": 0.5750319684207847,\n        \"min\": 0.0,\n        \"max\": 1.3,\n        \"num_unique_values\": 4,\n        \"samples\": [\n          1.3\n        ],\n        \"semantic_type\": \"\",\n        \"description\": \"\"\n      }\n    },\n    {\n      \"column\": \"p_volume\",\n      \"properties\": {\n        \"dtype\": \"category\",\n        \"num_unique_values\": 4,\n        \"samples\": [\n          \"750\"\n        ],\n        \"semantic_type\": \"\",\n        \"description\": \"\"\n      }\n    },\n    {\n      \"column\": \"strike_distance\",\n      \"properties\": {\n        \"dtype\": \"number\",\n        \"std\": 50.783977968456284,\n        \"min\": 539.7,\n        \"max\": 699.9,\n        \"num_unique_values\": 18,\n        \"samples\": [\n          539.7\n        ],\n        \"semantic_type\": \"\",\n        \"description\": \"\"\n      }\n    },\n    {\n      \"column\": \"strike_distance_pct\",\n      \"properties\": {\n        \"dtype\": \"number\",\n        \"std\": 0.010262725242924741,\n        \"min\": 0.128,\n        \"max\": 0.16,\n        \"num_unique_values\": 14,\n        \"samples\": [\n          0.152\n        ],\n        \"semantic_type\": \"\",\n        \"description\": \"\"\n      }\n    },\n    {\n      \"column\": \"implied_vol\",\n      \"properties\": {\n        \"dtype\": \"number\",\n        \"std\": 0.017043362064926952,\n        \"min\": 0.12999999999999995,\n        \"max\": 0.16999999999999998,\n        \"num_unique_values\": 4,\n        \"samples\": [\n          0.13999999999999996\n        ],\n        \"semantic_type\": \"\",\n        \"description\": \"\"\n      }\n    },\n    {\n      \"column\": \"realized_vol_120\",\n      \"properties\": {\n        \"dtype\": \"number\",\n        \"std\": 0.011049971817090366,\n        \"min\": 0.11107240620430069,\n        \"max\": 0.1381469402659505,\n        \"num_unique_values\": 18,\n        \"samples\": [\n          0.1381469402659505\n        ],\n        \"semantic_type\": \"\",\n        \"description\": \"\"\n      }\n    },\n    {\n      \"column\": \"iv_ratio_rv\",\n      \"properties\": {\n        \"dtype\": \"number\",\n        \"std\": 0.16507492903999782,\n        \"min\": 0.9410269945156464,\n        \"max\": 1.330240796972665,\n        \"num_unique_values\": 7,\n        \"samples\": [\n          0.9410269945156464\n        ],\n        \"semantic_type\": \"\",\n        \"description\": \"\"\n      }\n    },\n    {\n      \"column\": \"p_last_t1\",\n      \"properties\": {\n        \"dtype\": \"number\",\n        \"std\": 0.5790776134102761,\n        \"min\": 0.0,\n        \"max\": 1.3,\n        \"num_unique_values\": 4,\n        \"samples\": [\n          1.3\n        ],\n        \"semantic_type\": \"\",\n        \"description\": \"\"\n      }\n    }\n  ]\n}",
              "type": "dataframe",
              "variable_name": "df1"
            },
            "text/html": [
              "\n",
              "  <div id=\"df-31db4f47-ace9-46ba-997e-92153b48a0d3\" class=\"colab-df-container\">\n",
              "    <div>\n",
              "<style scoped>\n",
              "    .dataframe tbody tr th:only-of-type {\n",
              "        vertical-align: middle;\n",
              "    }\n",
              "\n",
              "    .dataframe tbody tr th {\n",
              "        vertical-align: top;\n",
              "    }\n",
              "\n",
              "    .dataframe thead th {\n",
              "        text-align: right;\n",
              "    }\n",
              "</style>\n",
              "<table border=\"1\" class=\"dataframe\">\n",
              "  <thead>\n",
              "    <tr style=\"text-align: right;\">\n",
              "      <th></th>\n",
              "      <th>Unnamed: 0</th>\n",
              "      <th>quote_unixtime</th>\n",
              "      <th>quote_readtime</th>\n",
              "      <th>quote_date</th>\n",
              "      <th>quote_time_hours</th>\n",
              "      <th>underlying_last</th>\n",
              "      <th>expire_date</th>\n",
              "      <th>expire_unix</th>\n",
              "      <th>strike</th>\n",
              "      <th>p_bid</th>\n",
              "      <th>p_ask</th>\n",
              "      <th>p_size</th>\n",
              "      <th>p_last</th>\n",
              "      <th>p_volume</th>\n",
              "      <th>strike_distance</th>\n",
              "      <th>strike_distance_pct</th>\n",
              "      <th>implied_vol</th>\n",
              "      <th>realized_vol_120</th>\n",
              "      <th>iv_ratio_rv</th>\n",
              "      <th>p_last_t1</th>\n",
              "    </tr>\n",
              "  </thead>\n",
              "  <tbody>\n",
              "    <tr>\n",
              "      <th>0</th>\n",
              "      <td>108508</td>\n",
              "      <td>1624305600</td>\n",
              "      <td>2021-06-21 16:00</td>\n",
              "      <td>2021-06-21</td>\n",
              "      <td>16</td>\n",
              "      <td>4224.66</td>\n",
              "      <td>2021-07-16</td>\n",
              "      <td>1626465600</td>\n",
              "      <td>3685</td>\n",
              "      <td>5.09</td>\n",
              "      <td>5.30</td>\n",
              "      <td>923 x 811</td>\n",
              "      <td>0.00</td>\n",
              "      <td></td>\n",
              "      <td>539.7</td>\n",
              "      <td>0.128</td>\n",
              "      <td>0.13</td>\n",
              "      <td>0.138147</td>\n",
              "      <td>0.941027</td>\n",
              "      <td>0.00</td>\n",
              "    </tr>\n",
              "    <tr>\n",
              "      <th>1</th>\n",
              "      <td>116717</td>\n",
              "      <td>1624392000</td>\n",
              "      <td>2021-06-22 16:00</td>\n",
              "      <td>2021-06-22</td>\n",
              "      <td>16</td>\n",
              "      <td>4246.38</td>\n",
              "      <td>2021-07-16</td>\n",
              "      <td>1626465600</td>\n",
              "      <td>3685</td>\n",
              "      <td>3.90</td>\n",
              "      <td>4.09</td>\n",
              "      <td>1389 x 100</td>\n",
              "      <td>0.00</td>\n",
              "      <td></td>\n",
              "      <td>561.4</td>\n",
              "      <td>0.132</td>\n",
              "      <td>0.13</td>\n",
              "      <td>0.137511</td>\n",
              "      <td>0.945382</td>\n",
              "      <td>0.00</td>\n",
              "    </tr>\n",
              "    <tr>\n",
              "      <th>2</th>\n",
              "      <td>125088</td>\n",
              "      <td>1624478400</td>\n",
              "      <td>2021-06-23 16:00</td>\n",
              "      <td>2021-06-23</td>\n",
              "      <td>16</td>\n",
              "      <td>4241.83</td>\n",
              "      <td>2021-07-16</td>\n",
              "      <td>1626465600</td>\n",
              "      <td>3685</td>\n",
              "      <td>3.40</td>\n",
              "      <td>3.61</td>\n",
              "      <td>886 x 1621</td>\n",
              "      <td>0.00</td>\n",
              "      <td></td>\n",
              "      <td>556.8</td>\n",
              "      <td>0.131</td>\n",
              "      <td>0.14</td>\n",
              "      <td>0.136715</td>\n",
              "      <td>1.024027</td>\n",
              "      <td>0.00</td>\n",
              "    </tr>\n",
              "    <tr>\n",
              "      <th>3</th>\n",
              "      <td>133233</td>\n",
              "      <td>1624564800</td>\n",
              "      <td>2021-06-24 16:00</td>\n",
              "      <td>2021-06-24</td>\n",
              "      <td>16</td>\n",
              "      <td>4266.39</td>\n",
              "      <td>2021-07-16</td>\n",
              "      <td>1626465600</td>\n",
              "      <td>3685</td>\n",
              "      <td>2.85</td>\n",
              "      <td>3.00</td>\n",
              "      <td>106 x 1310</td>\n",
              "      <td>0.00</td>\n",
              "      <td></td>\n",
              "      <td>581.4</td>\n",
              "      <td>0.136</td>\n",
              "      <td>0.14</td>\n",
              "      <td>0.136958</td>\n",
              "      <td>1.022213</td>\n",
              "      <td>0.00</td>\n",
              "    </tr>\n",
              "    <tr>\n",
              "      <th>4</th>\n",
              "      <td>141537</td>\n",
              "      <td>1624651200</td>\n",
              "      <td>2021-06-25 16:00</td>\n",
              "      <td>2021-06-25</td>\n",
              "      <td>16</td>\n",
              "      <td>4280.68</td>\n",
              "      <td>2021-07-16</td>\n",
              "      <td>1626465600</td>\n",
              "      <td>3685</td>\n",
              "      <td>2.21</td>\n",
              "      <td>2.35</td>\n",
              "      <td>109 x 401</td>\n",
              "      <td>0.00</td>\n",
              "      <td></td>\n",
              "      <td>595.7</td>\n",
              "      <td>0.139</td>\n",
              "      <td>0.15</td>\n",
              "      <td>0.135865</td>\n",
              "      <td>1.104037</td>\n",
              "      <td>0.00</td>\n",
              "    </tr>\n",
              "    <tr>\n",
              "      <th>5</th>\n",
              "      <td>149931</td>\n",
              "      <td>1624910400</td>\n",
              "      <td>2021-06-28 16:00</td>\n",
              "      <td>2021-06-28</td>\n",
              "      <td>16</td>\n",
              "      <td>4290.52</td>\n",
              "      <td>2021-07-16</td>\n",
              "      <td>1626465600</td>\n",
              "      <td>3685</td>\n",
              "      <td>1.74</td>\n",
              "      <td>1.84</td>\n",
              "      <td>110 x 436</td>\n",
              "      <td>0.00</td>\n",
              "      <td></td>\n",
              "      <td>605.5</td>\n",
              "      <td>0.141</td>\n",
              "      <td>0.17</td>\n",
              "      <td>0.128549</td>\n",
              "      <td>1.322453</td>\n",
              "      <td>0.00</td>\n",
              "    </tr>\n",
              "    <tr>\n",
              "      <th>6</th>\n",
              "      <td>158423</td>\n",
              "      <td>1624996800</td>\n",
              "      <td>2021-06-29 16:00</td>\n",
              "      <td>2021-06-29</td>\n",
              "      <td>16</td>\n",
              "      <td>4291.91</td>\n",
              "      <td>2021-07-16</td>\n",
              "      <td>1626465600</td>\n",
              "      <td>3685</td>\n",
              "      <td>1.71</td>\n",
              "      <td>1.85</td>\n",
              "      <td>733 x 1789</td>\n",
              "      <td>0.00</td>\n",
              "      <td></td>\n",
              "      <td>606.9</td>\n",
              "      <td>0.141</td>\n",
              "      <td>0.17</td>\n",
              "      <td>0.127796</td>\n",
              "      <td>1.330241</td>\n",
              "      <td>1.30</td>\n",
              "    </tr>\n",
              "    <tr>\n",
              "      <th>7</th>\n",
              "      <td>166926</td>\n",
              "      <td>1625083200</td>\n",
              "      <td>2021-06-30 16:00</td>\n",
              "      <td>2021-06-30</td>\n",
              "      <td>16</td>\n",
              "      <td>4297.32</td>\n",
              "      <td>2021-07-16</td>\n",
              "      <td>1626465600</td>\n",
              "      <td>3685</td>\n",
              "      <td>1.25</td>\n",
              "      <td>1.55</td>\n",
              "      <td>751 x 404</td>\n",
              "      <td>1.30</td>\n",
              "      <td>750</td>\n",
              "      <td>612.3</td>\n",
              "      <td>0.142</td>\n",
              "      <td>NaN</td>\n",
              "      <td>0.121850</td>\n",
              "      <td>NaN</td>\n",
              "      <td>1.30</td>\n",
              "    </tr>\n",
              "    <tr>\n",
              "      <th>8</th>\n",
              "      <td>1641</td>\n",
              "      <td>1625169600</td>\n",
              "      <td>2021-07-01 16:00</td>\n",
              "      <td>2021-07-01</td>\n",
              "      <td>16</td>\n",
              "      <td>4320.20</td>\n",
              "      <td>2021-07-16</td>\n",
              "      <td>1626465600</td>\n",
              "      <td>3685</td>\n",
              "      <td>0.85</td>\n",
              "      <td>1.05</td>\n",
              "      <td>100 x 710</td>\n",
              "      <td>1.30</td>\n",
              "      <td>0</td>\n",
              "      <td>635.2</td>\n",
              "      <td>0.147</td>\n",
              "      <td>NaN</td>\n",
              "      <td>0.120972</td>\n",
              "      <td>NaN</td>\n",
              "      <td>1.30</td>\n",
              "    </tr>\n",
              "    <tr>\n",
              "      <th>9</th>\n",
              "      <td>10010</td>\n",
              "      <td>1625256000</td>\n",
              "      <td>2021-07-02 16:00</td>\n",
              "      <td>2021-07-02</td>\n",
              "      <td>16</td>\n",
              "      <td>4352.48</td>\n",
              "      <td>2021-07-16</td>\n",
              "      <td>1626465600</td>\n",
              "      <td>3685</td>\n",
              "      <td>0.60</td>\n",
              "      <td>0.75</td>\n",
              "      <td>1819 x 921</td>\n",
              "      <td>1.30</td>\n",
              "      <td>750</td>\n",
              "      <td>667.5</td>\n",
              "      <td>0.153</td>\n",
              "      <td>NaN</td>\n",
              "      <td>0.118776</td>\n",
              "      <td>NaN</td>\n",
              "      <td>1.30</td>\n",
              "    </tr>\n",
              "    <tr>\n",
              "      <th>10</th>\n",
              "      <td>18246</td>\n",
              "      <td>1625601600</td>\n",
              "      <td>2021-07-06 16:00</td>\n",
              "      <td>2021-07-06</td>\n",
              "      <td>16</td>\n",
              "      <td>4343.44</td>\n",
              "      <td>2021-07-16</td>\n",
              "      <td>1626465600</td>\n",
              "      <td>3685</td>\n",
              "      <td>0.50</td>\n",
              "      <td>0.60</td>\n",
              "      <td>116 x 541</td>\n",
              "      <td>1.30</td>\n",
              "      <td>750</td>\n",
              "      <td>658.4</td>\n",
              "      <td>0.152</td>\n",
              "      <td>NaN</td>\n",
              "      <td>0.112555</td>\n",
              "      <td>NaN</td>\n",
              "      <td>1.30</td>\n",
              "    </tr>\n",
              "    <tr>\n",
              "      <th>11</th>\n",
              "      <td>26623</td>\n",
              "      <td>1625688000</td>\n",
              "      <td>2021-07-07 16:00</td>\n",
              "      <td>2021-07-07</td>\n",
              "      <td>16</td>\n",
              "      <td>4358.90</td>\n",
              "      <td>2021-07-16</td>\n",
              "      <td>1626465600</td>\n",
              "      <td>3685</td>\n",
              "      <td>0.24</td>\n",
              "      <td>0.45</td>\n",
              "      <td>150 x 677</td>\n",
              "      <td>1.30</td>\n",
              "      <td>750</td>\n",
              "      <td>673.9</td>\n",
              "      <td>0.155</td>\n",
              "      <td>NaN</td>\n",
              "      <td>0.111959</td>\n",
              "      <td>NaN</td>\n",
              "      <td>1.10</td>\n",
              "    </tr>\n",
              "    <tr>\n",
              "      <th>12</th>\n",
              "      <td>34768</td>\n",
              "      <td>1625774400</td>\n",
              "      <td>2021-07-08 16:00</td>\n",
              "      <td>2021-07-08</td>\n",
              "      <td>16</td>\n",
              "      <td>4322.04</td>\n",
              "      <td>2021-07-16</td>\n",
              "      <td>1626465600</td>\n",
              "      <td>3685</td>\n",
              "      <td>0.66</td>\n",
              "      <td>0.75</td>\n",
              "      <td>1110 x 114</td>\n",
              "      <td>1.10</td>\n",
              "      <td>10</td>\n",
              "      <td>637.0</td>\n",
              "      <td>0.147</td>\n",
              "      <td>NaN</td>\n",
              "      <td>0.111158</td>\n",
              "      <td>NaN</td>\n",
              "      <td>0.25</td>\n",
              "    </tr>\n",
              "    <tr>\n",
              "      <th>13</th>\n",
              "      <td>43066</td>\n",
              "      <td>1625860800</td>\n",
              "      <td>2021-07-09 16:00</td>\n",
              "      <td>2021-07-09</td>\n",
              "      <td>16</td>\n",
              "      <td>4369.26</td>\n",
              "      <td>2021-07-16</td>\n",
              "      <td>1626465600</td>\n",
              "      <td>3685</td>\n",
              "      <td>0.10</td>\n",
              "      <td>0.26</td>\n",
              "      <td>292 x 117</td>\n",
              "      <td>0.25</td>\n",
              "      <td></td>\n",
              "      <td>684.3</td>\n",
              "      <td>0.157</td>\n",
              "      <td>NaN</td>\n",
              "      <td>0.112189</td>\n",
              "      <td>NaN</td>\n",
              "      <td>0.25</td>\n",
              "    </tr>\n",
              "    <tr>\n",
              "      <th>14</th>\n",
              "      <td>51184</td>\n",
              "      <td>1626120000</td>\n",
              "      <td>2021-07-12 16:00</td>\n",
              "      <td>2021-07-12</td>\n",
              "      <td>16</td>\n",
              "      <td>4384.91</td>\n",
              "      <td>2021-07-16</td>\n",
              "      <td>1626465600</td>\n",
              "      <td>3685</td>\n",
              "      <td>0.00</td>\n",
              "      <td>0.16</td>\n",
              "      <td>0 x 100</td>\n",
              "      <td>0.25</td>\n",
              "      <td>0</td>\n",
              "      <td>699.9</td>\n",
              "      <td>0.160</td>\n",
              "      <td>NaN</td>\n",
              "      <td>0.111818</td>\n",
              "      <td>NaN</td>\n",
              "      <td>0.25</td>\n",
              "    </tr>\n",
              "    <tr>\n",
              "      <th>15</th>\n",
              "      <td>59677</td>\n",
              "      <td>1626206400</td>\n",
              "      <td>2021-07-13 16:00</td>\n",
              "      <td>2021-07-13</td>\n",
              "      <td>16</td>\n",
              "      <td>4369.81</td>\n",
              "      <td>2021-07-16</td>\n",
              "      <td>1626465600</td>\n",
              "      <td>3685</td>\n",
              "      <td>0.05</td>\n",
              "      <td>0.15</td>\n",
              "      <td>1045 x 471</td>\n",
              "      <td>0.25</td>\n",
              "      <td></td>\n",
              "      <td>684.8</td>\n",
              "      <td>0.157</td>\n",
              "      <td>NaN</td>\n",
              "      <td>0.111453</td>\n",
              "      <td>NaN</td>\n",
              "      <td>0.25</td>\n",
              "    </tr>\n",
              "    <tr>\n",
              "      <th>16</th>\n",
              "      <td>67686</td>\n",
              "      <td>1626292800</td>\n",
              "      <td>2021-07-14 16:00</td>\n",
              "      <td>2021-07-14</td>\n",
              "      <td>16</td>\n",
              "      <td>4375.24</td>\n",
              "      <td>2021-07-16</td>\n",
              "      <td>1626465600</td>\n",
              "      <td>3685</td>\n",
              "      <td>0.00</td>\n",
              "      <td>0.09</td>\n",
              "      <td>0 x 837</td>\n",
              "      <td>0.25</td>\n",
              "      <td></td>\n",
              "      <td>690.2</td>\n",
              "      <td>0.158</td>\n",
              "      <td>NaN</td>\n",
              "      <td>0.111072</td>\n",
              "      <td>NaN</td>\n",
              "      <td>0.25</td>\n",
              "    </tr>\n",
              "    <tr>\n",
              "      <th>17</th>\n",
              "      <td>76060</td>\n",
              "      <td>1626379200</td>\n",
              "      <td>2021-07-15 16:00</td>\n",
              "      <td>2021-07-15</td>\n",
              "      <td>16</td>\n",
              "      <td>4359.73</td>\n",
              "      <td>2021-07-16</td>\n",
              "      <td>1626465600</td>\n",
              "      <td>3685</td>\n",
              "      <td>0.00</td>\n",
              "      <td>0.20</td>\n",
              "      <td>0 x 30</td>\n",
              "      <td>0.25</td>\n",
              "      <td></td>\n",
              "      <td>674.7</td>\n",
              "      <td>0.155</td>\n",
              "      <td>NaN</td>\n",
              "      <td>0.111238</td>\n",
              "      <td>NaN</td>\n",
              "      <td>NaN</td>\n",
              "    </tr>\n",
              "  </tbody>\n",
              "</table>\n",
              "</div>\n",
              "    <div class=\"colab-df-buttons\">\n",
              "\n",
              "  <div class=\"colab-df-container\">\n",
              "    <button class=\"colab-df-convert\" onclick=\"convertToInteractive('df-31db4f47-ace9-46ba-997e-92153b48a0d3')\"\n",
              "            title=\"Convert this dataframe to an interactive table.\"\n",
              "            style=\"display:none;\">\n",
              "\n",
              "  <svg xmlns=\"http://www.w3.org/2000/svg\" height=\"24px\" viewBox=\"0 -960 960 960\">\n",
              "    <path d=\"M120-120v-720h720v720H120Zm60-500h600v-160H180v160Zm220 220h160v-160H400v160Zm0 220h160v-160H400v160ZM180-400h160v-160H180v160Zm440 0h160v-160H620v160ZM180-180h160v-160H180v160Zm440 0h160v-160H620v160Z\"/>\n",
              "  </svg>\n",
              "    </button>\n",
              "\n",
              "  <style>\n",
              "    .colab-df-container {\n",
              "      display:flex;\n",
              "      gap: 12px;\n",
              "    }\n",
              "\n",
              "    .colab-df-convert {\n",
              "      background-color: #E8F0FE;\n",
              "      border: none;\n",
              "      border-radius: 50%;\n",
              "      cursor: pointer;\n",
              "      display: none;\n",
              "      fill: #1967D2;\n",
              "      height: 32px;\n",
              "      padding: 0 0 0 0;\n",
              "      width: 32px;\n",
              "    }\n",
              "\n",
              "    .colab-df-convert:hover {\n",
              "      background-color: #E2EBFA;\n",
              "      box-shadow: 0px 1px 2px rgba(60, 64, 67, 0.3), 0px 1px 3px 1px rgba(60, 64, 67, 0.15);\n",
              "      fill: #174EA6;\n",
              "    }\n",
              "\n",
              "    .colab-df-buttons div {\n",
              "      margin-bottom: 4px;\n",
              "    }\n",
              "\n",
              "    [theme=dark] .colab-df-convert {\n",
              "      background-color: #3B4455;\n",
              "      fill: #D2E3FC;\n",
              "    }\n",
              "\n",
              "    [theme=dark] .colab-df-convert:hover {\n",
              "      background-color: #434B5C;\n",
              "      box-shadow: 0px 1px 3px 1px rgba(0, 0, 0, 0.15);\n",
              "      filter: drop-shadow(0px 1px 2px rgba(0, 0, 0, 0.3));\n",
              "      fill: #FFFFFF;\n",
              "    }\n",
              "  </style>\n",
              "\n",
              "    <script>\n",
              "      const buttonEl =\n",
              "        document.querySelector('#df-31db4f47-ace9-46ba-997e-92153b48a0d3 button.colab-df-convert');\n",
              "      buttonEl.style.display =\n",
              "        google.colab.kernel.accessAllowed ? 'block' : 'none';\n",
              "\n",
              "      async function convertToInteractive(key) {\n",
              "        const element = document.querySelector('#df-31db4f47-ace9-46ba-997e-92153b48a0d3');\n",
              "        const dataTable =\n",
              "          await google.colab.kernel.invokeFunction('convertToInteractive',\n",
              "                                                    [key], {});\n",
              "        if (!dataTable) return;\n",
              "\n",
              "        const docLinkHtml = 'Like what you see? Visit the ' +\n",
              "          '<a target=\"_blank\" href=https://colab.research.google.com/notebooks/data_table.ipynb>data table notebook</a>'\n",
              "          + ' to learn more about interactive tables.';\n",
              "        element.innerHTML = '';\n",
              "        dataTable['output_type'] = 'display_data';\n",
              "        await google.colab.output.renderOutput(dataTable, element);\n",
              "        const docLink = document.createElement('div');\n",
              "        docLink.innerHTML = docLinkHtml;\n",
              "        element.appendChild(docLink);\n",
              "      }\n",
              "    </script>\n",
              "  </div>\n",
              "\n",
              "\n",
              "<div id=\"df-98290a8f-11a4-44dc-b067-e9b99b56c8b0\">\n",
              "  <button class=\"colab-df-quickchart\" onclick=\"quickchart('df-98290a8f-11a4-44dc-b067-e9b99b56c8b0')\"\n",
              "            title=\"Suggest charts\"\n",
              "            style=\"display:none;\">\n",
              "\n",
              "<svg xmlns=\"http://www.w3.org/2000/svg\" height=\"24px\"viewBox=\"0 0 24 24\"\n",
              "     width=\"24px\">\n",
              "    <g>\n",
              "        <path d=\"M19 3H5c-1.1 0-2 .9-2 2v14c0 1.1.9 2 2 2h14c1.1 0 2-.9 2-2V5c0-1.1-.9-2-2-2zM9 17H7v-7h2v7zm4 0h-2V7h2v10zm4 0h-2v-4h2v4z\"/>\n",
              "    </g>\n",
              "</svg>\n",
              "  </button>\n",
              "\n",
              "<style>\n",
              "  .colab-df-quickchart {\n",
              "      --bg-color: #E8F0FE;\n",
              "      --fill-color: #1967D2;\n",
              "      --hover-bg-color: #E2EBFA;\n",
              "      --hover-fill-color: #174EA6;\n",
              "      --disabled-fill-color: #AAA;\n",
              "      --disabled-bg-color: #DDD;\n",
              "  }\n",
              "\n",
              "  [theme=dark] .colab-df-quickchart {\n",
              "      --bg-color: #3B4455;\n",
              "      --fill-color: #D2E3FC;\n",
              "      --hover-bg-color: #434B5C;\n",
              "      --hover-fill-color: #FFFFFF;\n",
              "      --disabled-bg-color: #3B4455;\n",
              "      --disabled-fill-color: #666;\n",
              "  }\n",
              "\n",
              "  .colab-df-quickchart {\n",
              "    background-color: var(--bg-color);\n",
              "    border: none;\n",
              "    border-radius: 50%;\n",
              "    cursor: pointer;\n",
              "    display: none;\n",
              "    fill: var(--fill-color);\n",
              "    height: 32px;\n",
              "    padding: 0;\n",
              "    width: 32px;\n",
              "  }\n",
              "\n",
              "  .colab-df-quickchart:hover {\n",
              "    background-color: var(--hover-bg-color);\n",
              "    box-shadow: 0 1px 2px rgba(60, 64, 67, 0.3), 0 1px 3px 1px rgba(60, 64, 67, 0.15);\n",
              "    fill: var(--button-hover-fill-color);\n",
              "  }\n",
              "\n",
              "  .colab-df-quickchart-complete:disabled,\n",
              "  .colab-df-quickchart-complete:disabled:hover {\n",
              "    background-color: var(--disabled-bg-color);\n",
              "    fill: var(--disabled-fill-color);\n",
              "    box-shadow: none;\n",
              "  }\n",
              "\n",
              "  .colab-df-spinner {\n",
              "    border: 2px solid var(--fill-color);\n",
              "    border-color: transparent;\n",
              "    border-bottom-color: var(--fill-color);\n",
              "    animation:\n",
              "      spin 1s steps(1) infinite;\n",
              "  }\n",
              "\n",
              "  @keyframes spin {\n",
              "    0% {\n",
              "      border-color: transparent;\n",
              "      border-bottom-color: var(--fill-color);\n",
              "      border-left-color: var(--fill-color);\n",
              "    }\n",
              "    20% {\n",
              "      border-color: transparent;\n",
              "      border-left-color: var(--fill-color);\n",
              "      border-top-color: var(--fill-color);\n",
              "    }\n",
              "    30% {\n",
              "      border-color: transparent;\n",
              "      border-left-color: var(--fill-color);\n",
              "      border-top-color: var(--fill-color);\n",
              "      border-right-color: var(--fill-color);\n",
              "    }\n",
              "    40% {\n",
              "      border-color: transparent;\n",
              "      border-right-color: var(--fill-color);\n",
              "      border-top-color: var(--fill-color);\n",
              "    }\n",
              "    60% {\n",
              "      border-color: transparent;\n",
              "      border-right-color: var(--fill-color);\n",
              "    }\n",
              "    80% {\n",
              "      border-color: transparent;\n",
              "      border-right-color: var(--fill-color);\n",
              "      border-bottom-color: var(--fill-color);\n",
              "    }\n",
              "    90% {\n",
              "      border-color: transparent;\n",
              "      border-bottom-color: var(--fill-color);\n",
              "    }\n",
              "  }\n",
              "</style>\n",
              "\n",
              "  <script>\n",
              "    async function quickchart(key) {\n",
              "      const quickchartButtonEl =\n",
              "        document.querySelector('#' + key + ' button');\n",
              "      quickchartButtonEl.disabled = true;  // To prevent multiple clicks.\n",
              "      quickchartButtonEl.classList.add('colab-df-spinner');\n",
              "      try {\n",
              "        const charts = await google.colab.kernel.invokeFunction(\n",
              "            'suggestCharts', [key], {});\n",
              "      } catch (error) {\n",
              "        console.error('Error during call to suggestCharts:', error);\n",
              "      }\n",
              "      quickchartButtonEl.classList.remove('colab-df-spinner');\n",
              "      quickchartButtonEl.classList.add('colab-df-quickchart-complete');\n",
              "    }\n",
              "    (() => {\n",
              "      let quickchartButtonEl =\n",
              "        document.querySelector('#df-98290a8f-11a4-44dc-b067-e9b99b56c8b0 button');\n",
              "      quickchartButtonEl.style.display =\n",
              "        google.colab.kernel.accessAllowed ? 'block' : 'none';\n",
              "    })();\n",
              "  </script>\n",
              "</div>\n",
              "\n",
              "    </div>\n",
              "  </div>\n"
            ],
            "text/plain": [
              "    Unnamed: 0  quote_unixtime     quote_readtime quote_date  \\\n",
              "0       108508      1624305600   2021-06-21 16:00 2021-06-21   \n",
              "1       116717      1624392000   2021-06-22 16:00 2021-06-22   \n",
              "2       125088      1624478400   2021-06-23 16:00 2021-06-23   \n",
              "3       133233      1624564800   2021-06-24 16:00 2021-06-24   \n",
              "4       141537      1624651200   2021-06-25 16:00 2021-06-25   \n",
              "5       149931      1624910400   2021-06-28 16:00 2021-06-28   \n",
              "6       158423      1624996800   2021-06-29 16:00 2021-06-29   \n",
              "7       166926      1625083200   2021-06-30 16:00 2021-06-30   \n",
              "8         1641      1625169600   2021-07-01 16:00 2021-07-01   \n",
              "9        10010      1625256000   2021-07-02 16:00 2021-07-02   \n",
              "10       18246      1625601600   2021-07-06 16:00 2021-07-06   \n",
              "11       26623      1625688000   2021-07-07 16:00 2021-07-07   \n",
              "12       34768      1625774400   2021-07-08 16:00 2021-07-08   \n",
              "13       43066      1625860800   2021-07-09 16:00 2021-07-09   \n",
              "14       51184      1626120000   2021-07-12 16:00 2021-07-12   \n",
              "15       59677      1626206400   2021-07-13 16:00 2021-07-13   \n",
              "16       67686      1626292800   2021-07-14 16:00 2021-07-14   \n",
              "17       76060      1626379200   2021-07-15 16:00 2021-07-15   \n",
              "\n",
              "    quote_time_hours  underlying_last  expire_date  expire_unix  strike  \\\n",
              "0                 16          4224.66   2021-07-16   1626465600    3685   \n",
              "1                 16          4246.38   2021-07-16   1626465600    3685   \n",
              "2                 16          4241.83   2021-07-16   1626465600    3685   \n",
              "3                 16          4266.39   2021-07-16   1626465600    3685   \n",
              "4                 16          4280.68   2021-07-16   1626465600    3685   \n",
              "5                 16          4290.52   2021-07-16   1626465600    3685   \n",
              "6                 16          4291.91   2021-07-16   1626465600    3685   \n",
              "7                 16          4297.32   2021-07-16   1626465600    3685   \n",
              "8                 16          4320.20   2021-07-16   1626465600    3685   \n",
              "9                 16          4352.48   2021-07-16   1626465600    3685   \n",
              "10                16          4343.44   2021-07-16   1626465600    3685   \n",
              "11                16          4358.90   2021-07-16   1626465600    3685   \n",
              "12                16          4322.04   2021-07-16   1626465600    3685   \n",
              "13                16          4369.26   2021-07-16   1626465600    3685   \n",
              "14                16          4384.91   2021-07-16   1626465600    3685   \n",
              "15                16          4369.81   2021-07-16   1626465600    3685   \n",
              "16                16          4375.24   2021-07-16   1626465600    3685   \n",
              "17                16          4359.73   2021-07-16   1626465600    3685   \n",
              "\n",
              "    p_bid  p_ask       p_size  p_last p_volume  strike_distance  \\\n",
              "0    5.09   5.30    923 x 811    0.00                     539.7   \n",
              "1    3.90   4.09   1389 x 100    0.00                     561.4   \n",
              "2    3.40   3.61   886 x 1621    0.00                     556.8   \n",
              "3    2.85   3.00   106 x 1310    0.00                     581.4   \n",
              "4    2.21   2.35    109 x 401    0.00                     595.7   \n",
              "5    1.74   1.84    110 x 436    0.00                     605.5   \n",
              "6    1.71   1.85   733 x 1789    0.00                     606.9   \n",
              "7    1.25   1.55    751 x 404    1.30      750            612.3   \n",
              "8    0.85   1.05    100 x 710    1.30        0            635.2   \n",
              "9    0.60   0.75   1819 x 921    1.30      750            667.5   \n",
              "10   0.50   0.60    116 x 541    1.30      750            658.4   \n",
              "11   0.24   0.45    150 x 677    1.30      750            673.9   \n",
              "12   0.66   0.75   1110 x 114    1.10       10            637.0   \n",
              "13   0.10   0.26    292 x 117    0.25                     684.3   \n",
              "14   0.00   0.16      0 x 100    0.25        0            699.9   \n",
              "15   0.05   0.15   1045 x 471    0.25                     684.8   \n",
              "16   0.00   0.09      0 x 837    0.25                     690.2   \n",
              "17   0.00   0.20       0 x 30    0.25                     674.7   \n",
              "\n",
              "    strike_distance_pct  implied_vol  realized_vol_120  iv_ratio_rv  p_last_t1  \n",
              "0                 0.128         0.13          0.138147     0.941027       0.00  \n",
              "1                 0.132         0.13          0.137511     0.945382       0.00  \n",
              "2                 0.131         0.14          0.136715     1.024027       0.00  \n",
              "3                 0.136         0.14          0.136958     1.022213       0.00  \n",
              "4                 0.139         0.15          0.135865     1.104037       0.00  \n",
              "5                 0.141         0.17          0.128549     1.322453       0.00  \n",
              "6                 0.141         0.17          0.127796     1.330241       1.30  \n",
              "7                 0.142          NaN          0.121850          NaN       1.30  \n",
              "8                 0.147          NaN          0.120972          NaN       1.30  \n",
              "9                 0.153          NaN          0.118776          NaN       1.30  \n",
              "10                0.152          NaN          0.112555          NaN       1.30  \n",
              "11                0.155          NaN          0.111959          NaN       1.10  \n",
              "12                0.147          NaN          0.111158          NaN       0.25  \n",
              "13                0.157          NaN          0.112189          NaN       0.25  \n",
              "14                0.160          NaN          0.111818          NaN       0.25  \n",
              "15                0.157          NaN          0.111453          NaN       0.25  \n",
              "16                0.158          NaN          0.111072          NaN       0.25  \n",
              "17                0.155          NaN          0.111238          NaN        NaN  "
            ]
          },
          "execution_count": 31,
          "metadata": {},
          "output_type": "execute_result"
        }
      ],
      "source": [
        "df1['p_last_t1'] = df1['p_last'].shift(-1)\n",
        "df1.head(20)"
      ]
    },
    {
      "cell_type": "markdown",
      "metadata": {
        "heading_collapsed": true,
        "hidden": true,
        "id": "anq-8SGgV8cZ"
      },
      "source": [
        "## Use your new data set:  Build a (small!) decision tree classifier to predict whether the options price will rise or fall tomorrow, using any of the variables you like. (0.5 pts)\n",
        "You may also include the current value of estimated volatility, if you would like.  Please show your results and discuss (1-2 paragraphs) your impressions.  Does the implied volatility provide any useful power?"
      ]
    },
    {
      "cell_type": "code",
      "execution_count": 45,
      "metadata": {
        "colab": {
          "base_uri": "https://localhost:8080/"
        },
        "id": "wgjLyP49Yo5e",
        "outputId": "7611ab59-e8b6-4481-be0f-0f06146dbcc5"
      },
      "outputs": [
        {
          "name": "stdout",
          "output_type": "stream",
          "text": [
            "0     0\n",
            "1     0\n",
            "2     0\n",
            "3     0\n",
            "4     0\n",
            "5     0\n",
            "6     1\n",
            "7     0\n",
            "8     0\n",
            "9     0\n",
            "10    0\n",
            "11    0\n",
            "12    0\n",
            "13    0\n",
            "14    0\n",
            "15    0\n",
            "16    0\n",
            "17    0\n",
            "Name: price_change, dtype: int64\n",
            "Accuracy: 0.83\n"
          ]
        }
      ],
      "source": [
        "from sklearn.model_selection import train_test_split\n",
        "from sklearn.tree import DecisionTreeClassifier\n",
        "from sklearn.metrics import accuracy_score\n",
        "\n",
        "df1['price_change'] = (df1['p_last'].shift(-1) > df1['p_last']).astype(int)\n",
        "\n",
        "print(df1['price_change'])\n",
        "\n",
        "features = ['underlying_last', 'implied_vol', 'realized_vol_120']\n",
        "data = df1.dropna(subset=features + ['price_change'])\n",
        "\n",
        "\n",
        "X = df1[features]\n",
        "y = df1['price_change']\n",
        "\n",
        "\n",
        "X_train, X_test, y_train, y_test = train_test_split(X, y, test_size=0.3, random_state=42)\n",
        "\n",
        "\n",
        "clf = DecisionTreeClassifier(max_depth=3, random_state=42)\n",
        "clf.fit(X_train, y_train)\n",
        "\n",
        "\n",
        "y_pred = clf.predict(X_test)\n",
        "\n",
        "\n",
        "accuracy = accuracy_score(y_test, y_pred)\n",
        "print(f'Accuracy: {accuracy:.2f}')\n"
      ]
    },
    {
      "cell_type": "markdown",
      "metadata": {
        "id": "Wh7dWfUjV8cZ"
      },
      "source": [
        "## **Observation: When I attempted to modify the features for prediction by removing implied volatility, the accuracy of the model remained unchanged. This suggests that implied volatility may not significantly impact this dataset. The dataset is relatively small, with only one instance where the price increases, while in the other 17 entries, the price either decreases or remains constant. As a result, the dataset is highly imblalanced, which likely limits the contribution of implied volatility to the predictive power of the model.**"
      ]
    },
    {
      "cell_type": "markdown",
      "metadata": {
        "id": "RTG3UU2bV8ca"
      },
      "source": [
        "# Extra Credit* (not required)"
      ]
    },
    {
      "cell_type": "markdown",
      "metadata": {
        "id": "BkV8F__sV8ca"
      },
      "source": [
        "## Flexing with a larger data set"
      ]
    },
    {
      "cell_type": "markdown",
      "metadata": {
        "id": "-Yn7gjCzV8ca"
      },
      "source": [
        "If you are feeling ambitious, or you are just intrigued by this problem, you can load the data set: `HW01_SPX_2021_eod.txt` (tab delimited) which contains just under 1MM records, in the same format as the data you have been using (but there is now an extra column `p_iv` which contains the pre-computed implied volatility. In this case, I have only included records for which there was actually volume traded in the option on the date indicated.  (Why might this be a bad idea if we were trying to do this for real??)  Can you do better than Black-Scholes?  How would you test your model?"
      ]
    },
    {
      "cell_type": "markdown",
      "metadata": {
        "id": "JJgmAtCQV8ca"
      },
      "source": []
    }
  ],
  "metadata": {
    "colab": {
      "provenance": []
    },
    "kernelspec": {
      "display_name": "Python 3 (Spyder)",
      "language": "python3",
      "name": "python3"
    },
    "language_info": {
      "codemirror_mode": {
        "name": "ipython",
        "version": 3
      },
      "file_extension": ".py",
      "mimetype": "text/x-python",
      "name": "python",
      "nbconvert_exporter": "python",
      "pygments_lexer": "ipython3",
      "version": "3.10.9"
    },
    "latex_envs": {
      "LaTeX_envs_menu_present": true,
      "autoclose": false,
      "autocomplete": true,
      "bibliofile": "biblio.bib",
      "cite_by": "apalike",
      "current_citInitial": 1,
      "eqLabelWithNumbers": true,
      "eqNumInitial": 1,
      "hotkeys": {
        "equation": "Ctrl-E",
        "itemize": "Ctrl-I"
      },
      "labels_anchors": false,
      "latex_user_defs": false,
      "report_style_numbering": false,
      "user_envs_cfg": false
    },
    "toc": {
      "base_numbering": 1,
      "nav_menu": {},
      "number_sections": true,
      "sideBar": true,
      "skip_h1_title": false,
      "title_cell": "Table of Contents",
      "title_sidebar": "Contents",
      "toc_cell": false,
      "toc_position": {},
      "toc_section_display": true,
      "toc_window_display": false
    },
    "varInspector": {
      "cols": {
        "lenName": 16,
        "lenType": 16,
        "lenVar": 40
      },
      "kernels_config": {
        "python": {
          "delete_cmd_postfix": "",
          "delete_cmd_prefix": "del ",
          "library": "var_list.py",
          "varRefreshCmd": "print(var_dic_list())"
        },
        "r": {
          "delete_cmd_postfix": ") ",
          "delete_cmd_prefix": "rm(",
          "library": "var_list.r",
          "varRefreshCmd": "cat(var_dic_list()) "
        }
      },
      "types_to_exclude": [
        "module",
        "function",
        "builtin_function_or_method",
        "instance",
        "_Feature"
      ],
      "window_display": false
    }
  },
  "nbformat": 4,
  "nbformat_minor": 0
}
